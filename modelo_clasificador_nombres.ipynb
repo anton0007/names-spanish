{
  "nbformat": 4,
  "nbformat_minor": 0,
  "metadata": {
    "colab": {
      "provenance": [],
      "authorship_tag": "ABX9TyPlx+g8VC6eBXmPJB5bE5Vx",
      "include_colab_link": true
    },
    "kernelspec": {
      "name": "python3",
      "display_name": "Python 3"
    },
    "language_info": {
      "name": "python"
    }
  },
  "cells": [
    {
      "cell_type": "markdown",
      "metadata": {
        "id": "view-in-github",
        "colab_type": "text"
      },
      "source": [
        "<a href=\"https://colab.research.google.com/github/anton0007/names-spanish/blob/master/modelo_clasificador_nombres.ipynb\" target=\"_parent\"><img src=\"https://colab.research.google.com/assets/colab-badge.svg\" alt=\"Open In Colab\"/></a>"
      ]
    },
    {
      "cell_type": "code",
      "execution_count": 2,
      "metadata": {
        "colab": {
          "base_uri": "https://localhost:8080/"
        },
        "id": "E3q3QaHh8Aqf",
        "outputId": "3bca4e30-8e8a-40d6-9a81-930466f2a71f"
      },
      "outputs": [
        {
          "output_type": "stream",
          "name": "stdout",
          "text": [
            "Cloning into 'names-spanish'...\n",
            "remote: Enumerating objects: 45, done.\u001b[K\n",
            "remote: Counting objects: 100% (45/45), done.\u001b[K\n",
            "remote: Compressing objects: 100% (27/27), done.\u001b[K\n",
            "remote: Total 45 (delta 22), reused 33 (delta 16), pack-reused 0 (from 0)\u001b[K\n",
            "Receiving objects: 100% (45/45), 825.05 KiB | 8.17 MiB/s, done.\n",
            "Resolving deltas: 100% (22/22), done.\n"
          ]
        }
      ],
      "source": [
        "!git clone https://github.com/anton0007/names-spanish\n"
      ]
    },
    {
      "cell_type": "code",
      "source": [
        "# Cargamos los archivos csv con numpy para tenerlos listos\n",
        "import numpy as np\n",
        "import nltk, random\n",
        "import unicodedata\n",
        "tag_hombre = np.genfromtxt('/content/names-spanish/male_names.csv', skip_header=1, delimiter=',', dtype=('U20','i8','f8'))\n",
        "tag_mujer = np.genfromtxt('/content/names-spanish/female_names.csv', skip_header=1, delimiter=',', dtype=('U20','i8','f8'))\n"
      ],
      "metadata": {
        "id": "9oawFiGp8e59"
      },
      "execution_count": 3,
      "outputs": []
    },
    {
      "cell_type": "code",
      "source": [
        "# Verificamos si esta llamando a los nombres\n",
        "print(tag_hombre[0])\n",
        "print (tag_mujer[0])"
      ],
      "metadata": {
        "colab": {
          "base_uri": "https://localhost:8080/"
        },
        "id": "4GZb95rN-zB9",
        "outputId": "7d1b9464-fe9b-4e9e-93f0-b83a664329d5"
      },
      "execution_count": 4,
      "outputs": [
        {
          "output_type": "stream",
          "name": "stdout",
          "text": [
            "('JOSE MARIA', 4785885, 65.)\n",
            "('MARIA RENE', 74852, 19.)\n"
          ]
        }
      ]
    },
    {
      "cell_type": "code",
      "source": [
        "#Juntamos las listas de hombres y mujeres\n",
        "f_set = [(name[0], 'Masculino') for name in tag_hombre] + [(name [0], 'Femenino') for name in tag_mujer]"
      ],
      "metadata": {
        "id": "wrMMO9HC_I-8"
      },
      "execution_count": 5,
      "outputs": []
    },
    {
      "cell_type": "code",
      "source": [
        "# Entrenamos teniendo en cuenta el nombre\n",
        "def atributos2(nombre):\n",
        "#nombre = nombre.lower().strip()  # Convertir a minúsculas y eliminar espacios al principio y al final\n",
        "    atrib = {}\n",
        "    # Últimas letras\n",
        "    atrib[\"ultima_letra\"] = nombre[-1].lower() if len(nombre) > 0 else ''\n",
        "    atrib[\"ultimas_dos_letras\"] = nombre[-2:].lower() if len(nombre) > 1 else ''\n",
        "    atrib[\"ultimas_tres_letras\"] = nombre[-3:].lower() if len(nombre) > 2 else ''\n",
        "    atrib[\"ultimas_cuatro_letras\"] = nombre[-4:].lower() if len(nombre) > 3 else ''\n",
        "    atrib[\"ultimas_cinco_letras\"] = nombre[-5:].lower() if len(nombre) > 4 else ''\n",
        "\n",
        "    # Características generales\n",
        "    atrib[\"cantidad_vocales\"] = sum(1 for char in nombre if char in 'aeiou')\n",
        "    atrib[\"cantidad_consonantes\"] = sum(1 for char in nombre if char.isalpha() and char not in 'aeiou')\n",
        "    atrib[\"longitud\"] = len(nombre)\n",
        "    atrib[\"primera_letra\"] = nombre[0].lower() if len(nombre) > 0 else ''\n",
        "    atrib[\"segunda_letra\"] = nombre[1].lower() if len(nombre) > 1 else ''\n",
        "    atrib[\"cantidad_digitos\"] = sum(1 for char in nombre if char.isdigit())\n",
        "\n",
        "    # Manejo de espacios y nombres compuestos\n",
        "    componentes = nombre.split()\n",
        "    num_componentes = len(componentes)\n",
        "    atrib[\"num_componentes\"] = num_componentes\n",
        "\n",
        "    if num_componentes > 0:\n",
        "        atrib[\"primer_componente\"] = componentes[0]\n",
        "    else:\n",
        "        atrib[\"primer_componente\"] = ''\n",
        "\n",
        "    if num_componentes > 1:\n",
        "        atrib[\"segundo_componente\"] = componentes[1]\n",
        "    else:\n",
        "        atrib[\"segundo_componente\"] = ''\n",
        "\n",
        "    # Ejemplo de cómo manejar sufijos comunes (opcional, requiere lista de sufijos comunes)\n",
        "    sufijos_comunes = [\"es\", \"ía\", \"al\", \"an\", \"ar\", \"er\", \"or\",\"a\", \"ina\", \"ela\", \"isa\",\"ia\", \"ana\", \"ora\", \"ena\", \"ona\", \"ita\",\"e\",\"o\", \"el\", \"io\", \"ón\", \"or\", \"an\", \"ín\", \"és\", \"ato\", \"ino\"]\n",
        "    atrib[\"tiene_sufijo_comun\"] = any(nombre.endswith(sufijo) for sufijo in sufijos_comunes)\n",
        "    return atrib\n",
        "\n",
        "f_varios_atributo = [(atributos2(n), g) for (n, g) in f_set]\n"
      ],
      "metadata": {
        "id": "X-NQtZ95AQKy"
      },
      "execution_count": 30,
      "outputs": []
    },
    {
      "cell_type": "code",
      "source": [
        "from sklearn.model_selection import train_test_split\n",
        "#Usamos el 80% de los datos para train y 20% para test\n",
        "f_varios_atributo_train, f_varios_atributo_test = train_test_split(f_varios_atributo, test_size=0.20, random_state=45)"
      ],
      "metadata": {
        "id": "llByjBafnWz_"
      },
      "execution_count": 31,
      "outputs": []
    },
    {
      "cell_type": "code",
      "source": [
        "# Entrenamos el modelo classifier_2\n",
        "classifier_2 = nltk.NaiveBayesClassifier.train(f_varios_atributo_train)"
      ],
      "metadata": {
        "id": "TZ3tS_kwAgW_"
      },
      "execution_count": 32,
      "outputs": []
    },
    {
      "cell_type": "code",
      "source": [
        "# Sacamos accuracy\n",
        "print(classifier_2.classify(atributos2('Maria René')))\n",
        "print(\"Probabilidad de:\")\n",
        "print(nltk.classify.accuracy(classifier_2, f_varios_atributo_test))"
      ],
      "metadata": {
        "colab": {
          "base_uri": "https://localhost:8080/"
        },
        "id": "48x-HahvAqnu",
        "outputId": "7ed11e69-1c95-4509-fe5f-ffe675de5e2b"
      },
      "execution_count": 45,
      "outputs": [
        {
          "output_type": "stream",
          "name": "stdout",
          "text": [
            "Femenino\n",
            "Probabilidad de:\n",
            "0.9254230418482116\n"
          ]
        }
      ]
    },
    {
      "cell_type": "code",
      "source": [
        "import pickle\n",
        "\n",
        "# Guardar tu modelo entrenado\n",
        "with open('modelo_clasificador_nombres.pkl', 'wb') as f:\n",
        "    pickle.dump(classifier_2, f)"
      ],
      "metadata": {
        "id": "bza1Ys_SD6Sy"
      },
      "execution_count": 49,
      "outputs": []
    }
  ]
}